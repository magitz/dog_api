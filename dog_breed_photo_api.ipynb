{
 "cells": [
  {
   "cell_type": "code",
   "execution_count": null,
   "id": "5c5245f7-57de-4bd5-bafd-4b6414b29a21",
   "metadata": {},
   "outputs": [],
   "source": [
    "import urllib.request, urllib.parse, urllib.error\n",
    "import json\n",
    "from IPython.display import Image, display\n",
    "\n",
    "\n",
    "names_url= 'https://dog.ceo/api/breeds/list/all'\n",
    "    \n",
    "print('Retrieving all breed names from:', names_url)\n",
    "uh = urllib.request.urlopen(urllib.request.Request(names_url, headers={\"User-Agent\": \"Mozilla/5.0\"}))\n",
    "data = uh.read().decode()\n",
    "print('Retrieved', len(data), 'characters')\n",
    "\n",
    "try:\n",
    "    js = json.loads(data)\n",
    "except:\n",
    "    js = None\n",
    "\n",
    "breed_list=[]\n",
    "breed_count=0\n",
    "\n",
    "for name in js['message']:\n",
    "    breed_list.append(name)\n",
    "    breed_count += 1\n",
    "\n",
    "print(f'Added {breed_count} breeds to the breed list')"
   ]
  },
  {
   "cell_type": "code",
   "execution_count": null,
   "id": "87868519-8548-4a53-8f8c-49c6d99045ca",
   "metadata": {},
   "outputs": [
    {
     "name": "stdin",
     "output_type": "stream",
     "text": [
      "Enter a dog breed name:  sdfa\n"
     ]
    },
    {
     "name": "stdout",
     "output_type": "stream",
     "text": [
      "Sorry that breed isn't in the list, please try again.\n"
     ]
    },
    {
     "name": "stdin",
     "output_type": "stream",
     "text": [
      "Enter a dog breed name:  vissla\n"
     ]
    },
    {
     "name": "stdout",
     "output_type": "stream",
     "text": [
      "Sorry that breed isn't in the list, please try again.\n"
     ]
    },
    {
     "name": "stdin",
     "output_type": "stream",
     "text": [
      "Enter a dog breed name:  vizsla\n"
     ]
    },
    {
     "name": "stdout",
     "output_type": "stream",
     "text": [
      "Retrieving https://dog.ceo/api/breed/vizsla/images/random\n",
      "Retrieved 94 characters\n",
      "URL of Dog photo: https://images.dog.ceo/breeds/vizsla/n02100583_11163.jpg\n"
     ]
    },
    {
     "data": {
      "text/html": [
       "<img src=\"https://images.dog.ceo/breeds/vizsla/n02100583_11163.jpg\"/>"
      ],
      "text/plain": [
       "<IPython.core.display.Image object>"
      ]
     },
     "metadata": {},
     "output_type": "display_data"
    }
   ],
   "source": [
    "serviceurl = 'https://dog.ceo/api/breed/'\n",
    "suffix='/images/random'\n",
    "\n",
    "while True:\n",
    "    dog_name = input('Enter a dog breed name: ')\n",
    "    if len(dog_name) < 1: break\n",
    "    if dog_name in breed_list:\n",
    "        url = serviceurl + dog_name + suffix\n",
    "\n",
    "        print('Retrieving', url)\n",
    "        uh = urllib.request.urlopen(urllib.request.Request(url, headers={\"User-Agent\": \"Mozilla/5.0\"}))\n",
    "        data = uh.read().decode()\n",
    "        print('Retrieved', len(data), 'characters')\n",
    "\n",
    "        try:\n",
    "            js = json.loads(data)\n",
    "        except:\n",
    "            js = None\n",
    "\n",
    "        print('URL of Dog photo:', js[\"message\"])\n",
    "        display(Image(url=js[\"message\"]))\n",
    "    else:\n",
    "        print(\"Sorry that breed isn't in the list, please try again.\")"
   ]
  },
  {
   "cell_type": "code",
   "execution_count": null,
   "id": "3d0fbb0d-40b1-4239-ab66-acfba7a975f4",
   "metadata": {},
   "outputs": [],
   "source": []
  }
 ],
 "metadata": {
  "kernelspec": {
   "display_name": "UFRC Python-3.10",
   "language": "python",
   "name": "python3-3.10-ufrc"
  },
  "language_info": {
   "codemirror_mode": {
    "name": "ipython",
    "version": 3
   },
   "file_extension": ".py",
   "mimetype": "text/x-python",
   "name": "python",
   "nbconvert_exporter": "python",
   "pygments_lexer": "ipython3",
   "version": "3.10.5"
  }
 },
 "nbformat": 4,
 "nbformat_minor": 5
}
